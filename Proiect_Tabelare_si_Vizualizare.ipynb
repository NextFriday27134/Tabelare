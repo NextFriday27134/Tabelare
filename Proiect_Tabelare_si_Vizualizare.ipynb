{
 "cells": [
  {
   "cell_type": "code",
   "execution_count": 3,
   "id": "5601f02b-bdd0-4a03-aea7-7e99b4145bcd",
   "metadata": {
    "tags": []
   },
   "outputs": [],
   "source": [
    "import pandas as pd\n",
    "import numpy as np\n",
    "import re\n",
    "import Functionalitati"
   ]
  },
  {
   "cell_type": "code",
   "execution_count": 2,
   "id": "ac2a2aba-1d1e-49eb-be90-5c9e5b67276f",
   "metadata": {
    "tags": []
   },
   "outputs": [],
   "source": [
    "def convert_money(value):\n",
    "    value = value.replace(\",\", \" \")\n",
    "    money = int(\"\".join(value.split(\" \")[:-1]))\n",
    "    if value.split(\" \")[-1] == \"RON\":\n",
    "        money = round(money / 5)\n",
    "    return money"
   ]
  },
  {
   "cell_type": "code",
   "execution_count": 3,
   "id": "f7c834e1-f5b4-4c75-ab9f-1bf97e38cc9e",
   "metadata": {
    "tags": []
   },
   "outputs": [],
   "source": [
    "def convert_area(value):\n",
    "    value = value.replace(\",\", \".\")\n",
    "    area = float(\"\".join(value.split(\" \")[0]))\n",
    "    return area"
   ]
  },
  {
   "cell_type": "code",
   "execution_count": 4,
   "id": "b2e5e90c-24de-4397-9f3f-b49b22d273d9",
   "metadata": {
    "tags": []
   },
   "outputs": [],
   "source": [
    "def number_of_floors(value):\n",
    "    new_value = None\n",
    "    if value in [np.nan]:\n",
    "        new_value = np.nan\n",
    "    elif \"/\" in value:\n",
    "        new_value = value.split(\"/\")[1]\n",
    "    else:\n",
    "        new_value = np.nan\n",
    "    return new_value"
   ]
  },
  {
   "cell_type": "code",
   "execution_count": 5,
   "id": "c0726a73-3f97-4f6b-95b5-b584b9f56efb",
   "metadata": {
    "tags": []
   },
   "outputs": [],
   "source": [
    "def apartment_floor(value):\n",
    "    new_value = None\n",
    "    if value in [np.nan]:\n",
    "        new_value = value\n",
    "    else:\n",
    "        new_value = re.sub('[<>!,.?*]', \"\", value.split(\"/\")[0])\n",
    "        new_value = new_value.strip()\n",
    "    return new_value"
   ]
  },
  {
   "cell_type": "code",
   "execution_count": 6,
   "id": "4d774669-8c28-4aa0-b897-5254a1eeac18",
   "metadata": {
    "tags": []
   },
   "outputs": [],
   "source": [
    "def get_year(value, text):\n",
    "    new_value = value\n",
    "    if value in [np.nan]:\n",
    "        new_values = re.findall(\"[0-2][0-9][0-9][0-9]\", text)\n",
    "        if new_values == []:\n",
    "            new_value = np.nan\n",
    "        else:\n",
    "            for val in new_values:\n",
    "                if int(val) < 1900:\n",
    "                    continue\n",
    "                else:\n",
    "                    new_value = val\n",
    "                    break\n",
    "    return new_value\n",
    "    "
   ]
  },
  {
   "cell_type": "code",
   "execution_count": 7,
   "id": "9882c048-0d9d-437d-95de-ffd526af3831",
   "metadata": {
    "tags": []
   },
   "outputs": [],
   "source": [
    "def parcare_or_garaj(value, text):\n",
    "    new_value = value\n",
    "    if text not in [np.nan]:\n",
    "        text = text.lower()\n",
    "        words_list = [\"garaj\", \"parcare\"]\n",
    "        if value in [np.nan]:\n",
    "            for word in words_list:\n",
    "                if word in text:\n",
    "                    new_value = word\n",
    "                    break\n",
    "    return new_value\n",
    "            "
   ]
  },
  {
   "cell_type": "code",
   "execution_count": 8,
   "id": "72346d16-ea36-496a-90ef-8619e9b82f96",
   "metadata": {
    "tags": []
   },
   "outputs": [],
   "source": [
    "def building_floors(value, text):\n",
    "    new_value = value\n",
    "    flag = 0\n",
    "    forms = [\"\\s[0-9][0-9]/[0-9][0-9]\\s\", \"\\s[0-9]/[0-9][0-9]\\s\", \"\\s[0-9]/[0-9]\\s\", \"parter/[0-9][0-9]\", \"parter/[0-9]\", \"demisol/[0-9][0-9]\",\n",
    "             \"demisol/[0-9]\", \"mansardă/[0-9][0-9]\", \"mansardă/[0-9]\", \"mansarda/[0-9][0-9]\", \"mansarda/[0-9]\"]\n",
    "    forms_2 = ['[0-9][0-9] etaje', '[0-9] etaje', '[0-9][0-9] nivele', '[0-9] nivele']\n",
    "    forms_3 = ['etajul\\s[0-9][0-9]/[0-9][0-9]', 'etajul\\s[0-9]/[0-9][0-9]', \"etajul\\s[0-9]/[0-9]\", 'etajul\\s[0-9][0-9]\\sdin\\s[0-9][0-9]',\n",
    "               'etajul\\s[0-9]\\sdin\\s[0-9][0-9]', \"etajul\\s[0-9]\\sdin\\s[0-9]\", \"etaj\\s[0-9][0-9]/[0-9][0-9]\", \"etaj\\s[0-9]/[0-9][0-9]\",\n",
    "               \"etaj\\s[0-9]/[0-9]\", 'etaj\\s[0-9][0-9]\\sdin\\s[0-9][0-9]', 'etaj\\s[0-9]\\sdin\\s[0-9][0-9]', \"etaj\\s[0-9]\\sdin\\s[0-9]\"]\n",
    "    forms_4 = ['etajul\\s[0-9][0-9]', 'etajul\\s[0-9]']\n",
    "    if text not in [np.nan]:\n",
    "        text = text.lower()\n",
    "    if (value in [np.nan]) or (\"/\" not in value):\n",
    "        flag = 0\n",
    "        for form in forms:\n",
    "            new_values = re.findall(form, text)\n",
    "            if len(new_values) > 0:\n",
    "                new_value = new_values[0]\n",
    "                flag = 1\n",
    "                new_value = new_value.strip()\n",
    "                break\n",
    "        if flag == 0:\n",
    "            for form in forms_3:\n",
    "                new_values = re.findall(form, text)\n",
    "                if len(new_values) > 0:\n",
    "                    new_value = new_values[0].replace(' din ', '/')\n",
    "                    new_value = new_value.split(\" \")[1]\n",
    "                    new_value = new_value.strip()\n",
    "                    break\n",
    "    if ( new_value not in [np.nan]) and (\"/\" not in new_value):\n",
    "        flag = 0\n",
    "        for form in forms_2:\n",
    "            new_values = re.findall(form, text)\n",
    "            if len(new_values) > 0:\n",
    "                flag = 1\n",
    "                new_value = value + \"/\" + new_values[0].split(\" \")[0]\n",
    "                new_value = new_value.strip()\n",
    "                break\n",
    "    if (flag == 0) and (new_value in [np.nan]):\n",
    "        for form in forms_4:\n",
    "            new_values = re.findall(form, text)\n",
    "            if len(new_values) > 0:\n",
    "                new_value = new_values[0].split(\" \")[1]\n",
    "                new_value = new_value.strip()\n",
    "                break\n",
    "                \n",
    "    return new_value "
   ]
  },
  {
   "cell_type": "code",
   "execution_count": 9,
   "id": "54aedb6b-9885-4675-996f-dcc48f027c78",
   "metadata": {},
   "outputs": [],
   "source": [
    "def set_max_floor(current_floor, max_floor, mode_mansarda):\n",
    "    new_max = max_floor\n",
    "    if (current_floor == 'mansardă') and (max_floor ==0):\n",
    "        new_max = mode_mansarda\n",
    "    elif (current_floor == \"parter\") or (current_floor == \"demisol\") or (current_floor == 'mansardă'):\n",
    "        pass\n",
    "    elif int(current_floor) > int(max_floor):\n",
    "        new_max = current_floor\n",
    "    return new_max   "
   ]
  },
  {
   "cell_type": "code",
   "execution_count": 10,
   "id": "f8186130-79cd-418e-b5fc-9c8c81012342",
   "metadata": {
    "tags": []
   },
   "outputs": [],
   "source": [
    "def dangerous_building(year, max_floor):\n",
    "    status = None\n",
    "    year = int(year)\n",
    "    max_floor = int(max_floor)\n",
    "    if (year <= 1977) and (max_floor > 5):\n",
    "        status = \"Cade\"\n",
    "    elif (year <= 1977) or (max_floor > 5):\n",
    "        status = \"Te simti norocos?\"\n",
    "    else:\n",
    "        status = \"Sigur\"\n",
    "    return status    "
   ]
  },
  {
   "cell_type": "code",
   "execution_count": 11,
   "id": "00f53947-2c5d-4540-9ddf-d187089a1ba2",
   "metadata": {
    "tags": []
   },
   "outputs": [],
   "source": [
    "def city_zone(zone_value):\n",
    "    zone_value = zone_value.split(\",\")\n",
    "    if \"iasi\" in zone_value[-2].lower():\n",
    "        if len(zone_value) == 4:\n",
    "            zone = zone_value[1]\n",
    "        else:\n",
    "            zone = zone_value[0]\n",
    "    else:\n",
    "        if len(zone_value) >= 3:\n",
    "            zone = zone_value[1]\n",
    "        else:\n",
    "            zone = zone_value[0]\n",
    "    return zone.strip()"
   ]
  },
  {
   "cell_type": "code",
   "execution_count": 12,
   "id": "a2f271c1-2618-47ab-b616-d4ee14870c80",
   "metadata": {
    "tags": []
   },
   "outputs": [],
   "source": [
    "def year_mode(zone_value, year_value, df):\n",
    "    if year_value == 0:\n",
    "        zone_mode = df[df['Zona Oras'] == zone_value]['Anul construcției'].mode().to_list()[0]\n",
    "    else:\n",
    "        zone_mode = year_value\n",
    "    return zone_mode"
   ]
  },
  {
   "cell_type": "code",
   "execution_count": 13,
   "id": "155e9f02-364a-457f-bb2f-37a6bfc540f0",
   "metadata": {
    "tags": []
   },
   "outputs": [],
   "source": [
    "vanzare_df = pd.read_excel(\"apartamente_de_vanzare.xlsx\")\n",
    "inchiriere_df = pd.read_excel(\"apartamente_de_inchiriat.xlsx\")"
   ]
  },
  {
   "cell_type": "code",
   "execution_count": 14,
   "id": "d430492c-7cba-4a25-a4bb-4c194fd0aee1",
   "metadata": {
    "tags": []
   },
   "outputs": [],
   "source": [
    "vanzare_df.replace(\"Cere informații\", np.nan, inplace=True)\n",
    "vanzare_df.replace(\"fără informații\", np.nan, inplace=True)"
   ]
  },
  {
   "cell_type": "code",
   "execution_count": 15,
   "id": "1dfc5747-58a7-4885-bafa-55e348439ef9",
   "metadata": {
    "tags": []
   },
   "outputs": [],
   "source": [
    "inchiriere_df.replace(\"Cere informații\", np.nan, inplace=True)\n",
    "inchiriere_df.replace(\"fără informații\", np.nan, inplace=True)"
   ]
  },
  {
   "cell_type": "code",
   "execution_count": 16,
   "id": "0e86b27a-f2f5-4492-9b07-a8f58d2f6034",
   "metadata": {
    "tags": []
   },
   "outputs": [],
   "source": [
    "vanzare_df['Pret'] = vanzare_df['Pret'].apply(convert_money)\n",
    "inchiriere_df['Pret'] = inchiriere_df['Pret'].apply(convert_money)"
   ]
  },
  {
   "cell_type": "code",
   "execution_count": 17,
   "id": "b48c2965-8274-4bcd-a0cc-1154646122eb",
   "metadata": {
    "tags": []
   },
   "outputs": [],
   "source": [
    "vanzare_df['Suprafață'] = vanzare_df['Suprafață'].apply(convert_area)\n",
    "inchiriere_df['Suprafață'] = inchiriere_df['Suprafață'].apply(convert_area)"
   ]
  },
  {
   "cell_type": "code",
   "execution_count": 18,
   "id": "9fd13249-ab1d-4091-9b52-3782102e1068",
   "metadata": {
    "tags": []
   },
   "outputs": [],
   "source": [
    "vanzare_df['Etaj'] = vanzare_df.apply(lambda df: building_floors(df[\"Etaj\"], df[\"Descriere\"]), axis=1)\n",
    "inchiriere_df['Etaj'] = inchiriere_df.apply(lambda df: building_floors(df[\"Etaj\"], df[\"Descriere\"]), axis=1)"
   ]
  },
  {
   "cell_type": "code",
   "execution_count": 19,
   "id": "08f53b99-531c-4d6e-a6c3-fdf83bfdaadb",
   "metadata": {
    "tags": []
   },
   "outputs": [],
   "source": [
    "vanzare_df['Etaj apartament'] = vanzare_df['Etaj'].apply(apartment_floor)\n",
    "inchiriere_df['Etaj apartament'] = inchiriere_df['Etaj'].apply(apartment_floor)"
   ]
  },
  {
   "cell_type": "code",
   "execution_count": 20,
   "id": "e03df19a-dcad-4b20-b65a-4fdc5e8d80d6",
   "metadata": {
    "tags": []
   },
   "outputs": [],
   "source": [
    "vanzare_df['Numar Etaj Bloc'] = vanzare_df['Etaj'].apply(number_of_floors)\n",
    "inchiriere_df['Numar Etaj Bloc'] = inchiriere_df['Etaj'].apply(number_of_floors)"
   ]
  },
  {
   "cell_type": "code",
   "execution_count": 21,
   "id": "715126f4-34f9-4924-8817-e055fa608d49",
   "metadata": {
    "tags": []
   },
   "outputs": [],
   "source": [
    "vanzare_df[\"Anul construcției\"] = vanzare_df.apply(lambda df: get_year(df[\"Anul construcției\"], df[\"Descriere\"]), axis=1)\n",
    "inchiriere_df[\"Anul construcției\"] = inchiriere_df.apply(lambda df: get_year(df[\"Anul construcției\"], df[\"Descriere\"]), axis=1)"
   ]
  },
  {
   "cell_type": "code",
   "execution_count": 22,
   "id": "ccc9ac9d-3b47-4315-8eb8-3f0e07e11061",
   "metadata": {
    "tags": []
   },
   "outputs": [],
   "source": [
    "vanzare_df['Garaj/loc de parcare'] = vanzare_df.apply(lambda df: parcare_or_garaj(df['Garaj/loc de parcare'], df[\"Descriere\"]), axis=1)\n",
    "inchiriere_df['Garaj/loc de parcare'] = inchiriere_df.apply(lambda df: parcare_or_garaj(df['Garaj/loc de parcare'], df[\"Descriere\"]), axis=1)"
   ]
  },
  {
   "cell_type": "code",
   "execution_count": 23,
   "id": "9bbd49d5-cc1d-4926-858c-7ee2753df856",
   "metadata": {
    "tags": []
   },
   "outputs": [],
   "source": [
    "vanzare_df['Garaj/loc de parcare'].replace(np.nan, \"Fara loc\", inplace=True)\n",
    "inchiriere_df['Garaj/loc de parcare'].replace(np.nan, \"Fara loc\", inplace=True)"
   ]
  },
  {
   "cell_type": "code",
   "execution_count": 24,
   "id": "ba0d2224-165f-4aec-8883-b1dd3557f095",
   "metadata": {
    "tags": []
   },
   "outputs": [],
   "source": [
    "new_vanzare_df = vanzare_df.loc[:,(\"Zona\", \"Pret\", 'Suprafață', 'Numărul de camere', 'Anul construcției',\n",
    "                                   'Etaj apartament', 'Numar Etaj Bloc', 'Garaj/loc de parcare')]\n",
    "new_inchiriere_df = inchiriere_df.loc[:, (\"Zona\", \"Pret\", 'Suprafață', 'Numărul de camere', 'Anul construcției',\n",
    "                                          'Etaj apartament', 'Numar Etaj Bloc', 'Garaj/loc de parcare')]"
   ]
  },
  {
   "cell_type": "code",
   "execution_count": 25,
   "id": "47a6500e-2af3-4139-8796-6125f4189df3",
   "metadata": {
    "tags": []
   },
   "outputs": [],
   "source": [
    "new_vanzare_df['Anul construcției'].replace(np.nan, 0, inplace=True)\n",
    "new_vanzare_df['Anul construcției'] = new_vanzare_df['Anul construcției'].astype('int')\n",
    "new_inchiriere_df[\"Anul construcției\"].replace(np.nan, 0, inplace=True)\n",
    "new_inchiriere_df[\"Anul construcției\"] = new_inchiriere_df[\"Anul construcției\"].astype(\"int\")"
   ]
  },
  {
   "cell_type": "code",
   "execution_count": 26,
   "id": "6be384df-2654-4830-b427-7129fc6263bb",
   "metadata": {
    "tags": []
   },
   "outputs": [],
   "source": [
    "new_vanzare_df['Numar Etaj Bloc'].replace(np.nan, 0, inplace=True)\n",
    "index_to_drop = new_vanzare_df.index[new_vanzare_df['Numar Etaj Bloc'] == \"24\"].to_list()\n",
    "new_vanzare_df.drop(index_to_drop, inplace=True)"
   ]
  },
  {
   "cell_type": "code",
   "execution_count": 27,
   "id": "9c3c21e2-50c1-4379-bf8e-254953d1a569",
   "metadata": {
    "tags": []
   },
   "outputs": [],
   "source": [
    "new_inchiriere_df['Numar Etaj Bloc'].replace(np.nan, 0, inplace=True)\n",
    "index_to_drop = new_inchiriere_df.index[new_inchiriere_df['Numar Etaj Bloc'] == \"24\"].to_list()\n",
    "new_inchiriere_df.drop(index_to_drop, inplace=True)"
   ]
  },
  {
   "cell_type": "code",
   "execution_count": 28,
   "id": "bec9b8fd-4b8b-416f-9f3c-b0b5cd4bc651",
   "metadata": {
    "tags": []
   },
   "outputs": [],
   "source": [
    "new_vanzare_df['Etaj apartament'].replace(np.nan, 0, inplace=True)\n",
    "index_to_drop = new_vanzare_df[new_vanzare_df['Etaj apartament'] == 0].index\n",
    "new_vanzare_df.drop(index_to_drop, inplace=True)"
   ]
  },
  {
   "cell_type": "code",
   "execution_count": 29,
   "id": "dd201be6-0c74-4de9-87d1-626d934a1ac2",
   "metadata": {},
   "outputs": [],
   "source": [
    "new_inchiriere_df['Etaj apartament'].replace(np.nan, 0, inplace=True)\n",
    "index_to_drop = new_inchiriere_df[new_inchiriere_df['Etaj apartament'] == 0].index\n",
    "new_inchiriere_df.drop(index_to_drop, inplace=True)"
   ]
  },
  {
   "cell_type": "code",
   "execution_count": 30,
   "id": "e4754e96-eae5-4fa3-8beb-5e8a9a7d48a1",
   "metadata": {
    "tags": []
   },
   "outputs": [],
   "source": [
    "mode_mansarda = int(new_vanzare_df[new_vanzare_df['Etaj apartament'] == 'mansardă']['Numar Etaj Bloc'].mode().to_list()[0])\n",
    "new_vanzare_df['Numar Etaj Bloc'] = new_vanzare_df.apply(lambda df:\n",
    "                                                         set_max_floor(df['Etaj apartament'], df['Numar Etaj Bloc'], mode_mansarda), axis=1)"
   ]
  },
  {
   "cell_type": "code",
   "execution_count": 31,
   "id": "83db3d39-63a3-446c-88c2-9c55d2c1981c",
   "metadata": {
    "tags": []
   },
   "outputs": [],
   "source": [
    "mode_mansarda = int(new_inchiriere_df[new_inchiriere_df['Etaj apartament'] == 'mansardă']['Numar Etaj Bloc'].mode().to_list()[0])\n",
    "new_inchiriere_df['Numar Etaj Bloc'] = new_inchiriere_df.apply(lambda df:\n",
    "                                                         set_max_floor(df['Etaj apartament'], df['Numar Etaj Bloc'], mode_mansarda), axis=1)"
   ]
  },
  {
   "cell_type": "code",
   "execution_count": 32,
   "id": "d95d5340-2af3-4a01-9730-79e958ea5ad4",
   "metadata": {
    "tags": []
   },
   "outputs": [],
   "source": [
    "new_vanzare_df['Zona Oras'] = new_vanzare_df['Zona'].apply(city_zone)\n",
    "new_inchiriere_df['Zona Oras'] = new_inchiriere_df['Zona'].apply(city_zone)"
   ]
  },
  {
   "cell_type": "code",
   "execution_count": 33,
   "id": "d9b9ef41-c7e9-4d45-9ed6-3648b5408bd3",
   "metadata": {
    "tags": []
   },
   "outputs": [],
   "source": [
    "new_vanzare_df[\"Anul construcției\"] = new_vanzare_df.apply(lambda df:\n",
    "                                                              year_mode(df['Zona Oras'], df[\"Anul construcției\"], new_vanzare_df), axis=1)\n",
    "new_inchiriere_df[\"Anul construcției\"] = new_inchiriere_df.apply(lambda df:\n",
    "                                                              year_mode(df['Zona Oras'], df[\"Anul construcției\"], new_inchiriere_df), axis=1)"
   ]
  },
  {
   "cell_type": "code",
   "execution_count": 34,
   "id": "e05a85d9-add5-4de4-af84-3fe2a81796e9",
   "metadata": {
    "tags": []
   },
   "outputs": [],
   "source": [
    "new_vanzare_df['Cutremur'] = new_vanzare_df.apply(lambda df:\n",
    "                                                  dangerous_building(df['Anul construcției'], df['Numar Etaj Bloc']), axis=1)\n",
    "new_inchiriere_df['Cutremur'] = new_inchiriere_df.apply(lambda df:\n",
    "                                                  dangerous_building(df['Anul construcției'], df['Numar Etaj Bloc']), axis=1)\n"
   ]
  },
  {
   "cell_type": "code",
   "execution_count": 35,
   "id": "8e1727c0-60af-4faa-9e8a-5e725ca8c5fa",
   "metadata": {},
   "outputs": [
    {
     "data": {
      "text/html": [
       "<div>\n",
       "<style scoped>\n",
       "    .dataframe tbody tr th:only-of-type {\n",
       "        vertical-align: middle;\n",
       "    }\n",
       "\n",
       "    .dataframe tbody tr th {\n",
       "        vertical-align: top;\n",
       "    }\n",
       "\n",
       "    .dataframe thead th {\n",
       "        text-align: right;\n",
       "    }\n",
       "</style>\n",
       "<table border=\"1\" class=\"dataframe\">\n",
       "  <thead>\n",
       "    <tr style=\"text-align: right;\">\n",
       "      <th></th>\n",
       "      <th>Zona</th>\n",
       "      <th>Pret</th>\n",
       "      <th>Suprafață</th>\n",
       "      <th>Numărul de camere</th>\n",
       "      <th>Anul construcției</th>\n",
       "      <th>Etaj apartament</th>\n",
       "      <th>Numar Etaj Bloc</th>\n",
       "      <th>Garaj/loc de parcare</th>\n",
       "      <th>Zona Oras</th>\n",
       "      <th>Cutremur</th>\n",
       "    </tr>\n",
       "  </thead>\n",
       "  <tbody>\n",
       "    <tr>\n",
       "      <th>0</th>\n",
       "      <td>Podu Ros, Iasi, Iasi</td>\n",
       "      <td>168000</td>\n",
       "      <td>66.18</td>\n",
       "      <td>2</td>\n",
       "      <td>2015</td>\n",
       "      <td>4</td>\n",
       "      <td>4</td>\n",
       "      <td>Fara loc</td>\n",
       "      <td>Podu Ros</td>\n",
       "      <td>Sigur</td>\n",
       "    </tr>\n",
       "    <tr>\n",
       "      <th>1</th>\n",
       "      <td>Dacia, Iasi, Iasi</td>\n",
       "      <td>128000</td>\n",
       "      <td>81.00</td>\n",
       "      <td>3</td>\n",
       "      <td>1989</td>\n",
       "      <td>8</td>\n",
       "      <td>9</td>\n",
       "      <td>Fara loc</td>\n",
       "      <td>Dacia</td>\n",
       "      <td>Te simti norocos?</td>\n",
       "    </tr>\n",
       "    <tr>\n",
       "      <th>2</th>\n",
       "      <td>Podu de Fier, Iasi, Iasi</td>\n",
       "      <td>396000</td>\n",
       "      <td>230.00</td>\n",
       "      <td>5</td>\n",
       "      <td>2001</td>\n",
       "      <td>3</td>\n",
       "      <td>3</td>\n",
       "      <td>parcare</td>\n",
       "      <td>Podu de Fier</td>\n",
       "      <td>Sigur</td>\n",
       "    </tr>\n",
       "    <tr>\n",
       "      <th>3</th>\n",
       "      <td>Agronomie, Iasi, Iasi</td>\n",
       "      <td>102405</td>\n",
       "      <td>68.27</td>\n",
       "      <td>3</td>\n",
       "      <td>2023</td>\n",
       "      <td>2</td>\n",
       "      <td>2</td>\n",
       "      <td>Fara loc</td>\n",
       "      <td>Agronomie</td>\n",
       "      <td>Sigur</td>\n",
       "    </tr>\n",
       "    <tr>\n",
       "      <th>4</th>\n",
       "      <td>Soseaua Nicolina, CUG, Iasi, Iasi</td>\n",
       "      <td>120000</td>\n",
       "      <td>78.00</td>\n",
       "      <td>3</td>\n",
       "      <td>2023</td>\n",
       "      <td>6</td>\n",
       "      <td>10</td>\n",
       "      <td>Fara loc</td>\n",
       "      <td>CUG</td>\n",
       "      <td>Te simti norocos?</td>\n",
       "    </tr>\n",
       "    <tr>\n",
       "      <th>...</th>\n",
       "      <td>...</td>\n",
       "      <td>...</td>\n",
       "      <td>...</td>\n",
       "      <td>...</td>\n",
       "      <td>...</td>\n",
       "      <td>...</td>\n",
       "      <td>...</td>\n",
       "      <td>...</td>\n",
       "      <td>...</td>\n",
       "      <td>...</td>\n",
       "    </tr>\n",
       "    <tr>\n",
       "      <th>4484</th>\n",
       "      <td>Bucium, Iasi, Iasi</td>\n",
       "      <td>55000</td>\n",
       "      <td>52.00</td>\n",
       "      <td>2</td>\n",
       "      <td>2021</td>\n",
       "      <td>4</td>\n",
       "      <td>7</td>\n",
       "      <td>parcare</td>\n",
       "      <td>Bucium</td>\n",
       "      <td>Te simti norocos?</td>\n",
       "    </tr>\n",
       "    <tr>\n",
       "      <th>4485</th>\n",
       "      <td>Soseaua Nicolina, Nicolina 1, Iasi, Iasi</td>\n",
       "      <td>98000</td>\n",
       "      <td>96.00</td>\n",
       "      <td>4</td>\n",
       "      <td>1988</td>\n",
       "      <td>7</td>\n",
       "      <td>7</td>\n",
       "      <td>Fara loc</td>\n",
       "      <td>Nicolina 1</td>\n",
       "      <td>Te simti norocos?</td>\n",
       "    </tr>\n",
       "    <tr>\n",
       "      <th>4486</th>\n",
       "      <td>Strada Baltagului, Agronomie, Iasi, Iasi</td>\n",
       "      <td>86850</td>\n",
       "      <td>64.50</td>\n",
       "      <td>2</td>\n",
       "      <td>2022</td>\n",
       "      <td>2</td>\n",
       "      <td>10</td>\n",
       "      <td>parcare</td>\n",
       "      <td>Agronomie</td>\n",
       "      <td>Te simti norocos?</td>\n",
       "    </tr>\n",
       "    <tr>\n",
       "      <th>4487</th>\n",
       "      <td>Strada Baltagului, Agronomie, Iasi, Iasi</td>\n",
       "      <td>115075</td>\n",
       "      <td>88.00</td>\n",
       "      <td>3</td>\n",
       "      <td>2022</td>\n",
       "      <td>3</td>\n",
       "      <td>10</td>\n",
       "      <td>parcare</td>\n",
       "      <td>Agronomie</td>\n",
       "      <td>Te simti norocos?</td>\n",
       "    </tr>\n",
       "    <tr>\n",
       "      <th>4488</th>\n",
       "      <td>Strada Baltagului, Agronomie, Iasi, Iasi</td>\n",
       "      <td>97290</td>\n",
       "      <td>79.20</td>\n",
       "      <td>2</td>\n",
       "      <td>2022</td>\n",
       "      <td>1</td>\n",
       "      <td>10</td>\n",
       "      <td>parcare</td>\n",
       "      <td>Agronomie</td>\n",
       "      <td>Te simti norocos?</td>\n",
       "    </tr>\n",
       "  </tbody>\n",
       "</table>\n",
       "<p>4166 rows × 10 columns</p>\n",
       "</div>"
      ],
      "text/plain": [
       "                                          Zona    Pret  Suprafață  \\\n",
       "0                         Podu Ros, Iasi, Iasi  168000      66.18   \n",
       "1                            Dacia, Iasi, Iasi  128000      81.00   \n",
       "2                     Podu de Fier, Iasi, Iasi  396000     230.00   \n",
       "3                        Agronomie, Iasi, Iasi  102405      68.27   \n",
       "4            Soseaua Nicolina, CUG, Iasi, Iasi  120000      78.00   \n",
       "...                                        ...     ...        ...   \n",
       "4484                        Bucium, Iasi, Iasi   55000      52.00   \n",
       "4485  Soseaua Nicolina, Nicolina 1, Iasi, Iasi   98000      96.00   \n",
       "4486  Strada Baltagului, Agronomie, Iasi, Iasi   86850      64.50   \n",
       "4487  Strada Baltagului, Agronomie, Iasi, Iasi  115075      88.00   \n",
       "4488  Strada Baltagului, Agronomie, Iasi, Iasi   97290      79.20   \n",
       "\n",
       "      Numărul de camere  Anul construcției Etaj apartament Numar Etaj Bloc  \\\n",
       "0                     2               2015               4               4   \n",
       "1                     3               1989               8               9   \n",
       "2                     5               2001               3               3   \n",
       "3                     3               2023               2               2   \n",
       "4                     3               2023               6              10   \n",
       "...                 ...                ...             ...             ...   \n",
       "4484                  2               2021               4               7   \n",
       "4485                  4               1988               7               7   \n",
       "4486                  2               2022               2              10   \n",
       "4487                  3               2022               3              10   \n",
       "4488                  2               2022               1              10   \n",
       "\n",
       "     Garaj/loc de parcare     Zona Oras           Cutremur  \n",
       "0                Fara loc      Podu Ros              Sigur  \n",
       "1                Fara loc         Dacia  Te simti norocos?  \n",
       "2                 parcare  Podu de Fier              Sigur  \n",
       "3                Fara loc     Agronomie              Sigur  \n",
       "4                Fara loc           CUG  Te simti norocos?  \n",
       "...                   ...           ...                ...  \n",
       "4484              parcare        Bucium  Te simti norocos?  \n",
       "4485             Fara loc    Nicolina 1  Te simti norocos?  \n",
       "4486              parcare     Agronomie  Te simti norocos?  \n",
       "4487              parcare     Agronomie  Te simti norocos?  \n",
       "4488              parcare     Agronomie  Te simti norocos?  \n",
       "\n",
       "[4166 rows x 10 columns]"
      ]
     },
     "execution_count": 35,
     "metadata": {},
     "output_type": "execute_result"
    }
   ],
   "source": [
    "new_vanzare_df"
   ]
  },
  {
   "cell_type": "code",
   "execution_count": null,
   "id": "e1722dd2-7375-4bc1-a0fc-f642e652616d",
   "metadata": {},
   "outputs": [],
   "source": []
  }
 ],
 "metadata": {
  "kernelspec": {
   "display_name": "Python 3 (ipykernel)",
   "language": "python",
   "name": "python3"
  },
  "language_info": {
   "codemirror_mode": {
    "name": "ipython",
    "version": 3
   },
   "file_extension": ".py",
   "mimetype": "text/x-python",
   "name": "python",
   "nbconvert_exporter": "python",
   "pygments_lexer": "ipython3",
   "version": "3.11.5"
  }
 },
 "nbformat": 4,
 "nbformat_minor": 5
}
