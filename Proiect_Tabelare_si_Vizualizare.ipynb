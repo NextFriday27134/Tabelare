{
 "cells": [
  {
   "cell_type": "markdown",
   "id": "9e5e2acc-eee5-49c0-8946-ff846819dfd6",
   "metadata": {},
   "source": [
    "<h1>Proiect: Tabelare și data visualizatio"
   ]
  },
  {
   "cell_type": "markdown",
   "id": "cba7ce9c-c077-49c8-bbd2-1753e3357c51",
   "metadata": {},
   "source": [
    "Student: Guliciuc George Gabriel\n",
    "\n",
    "Grupa: mDM11\n",
    "\n",
    "Context:\n",
    "\n",
    "    Este deja cunoscut că mărimea și zona în care se află  influnteaza prețul unui apartament, prin acest proiect doresc să văd dacă există o relație între prețul apartamentul și alte specificații a acestuia (anul construcției, etajul la care se află apartamentul, înălțimea blocului, tipul de încălzirea, dacă are un loc de parcare/garaj) în zona metropolitană Iași."
   ]
  },
  {
   "cell_type": "code",
   "execution_count": 53,
   "id": "5601f02b-bdd0-4a03-aea7-7e99b4145bcd",
   "metadata": {
    "tags": []
   },
   "outputs": [],
   "source": [
    "import pandas as pd\n",
    "import numpy as np\n",
    "from Functionalitati import *"
   ]
  },
  {
   "cell_type": "markdown",
   "id": "992f21c7-a2d2-4c64-bedf-dbb49e847c1f",
   "metadata": {},
   "source": [
    "<h2>Prezentarea bazei de date inițiale"
   ]
  },
  {
   "cell_type": "markdown",
   "id": "621bbf35-f643-4474-9d66-b1fa32d03e67",
   "metadata": {},
   "source": [
    "Pentru acest proiect am extras datele de la anuturile de vânzare din zona metropolitană Iași de pe situl https://www.storia.ro/ro/rezultate/vanzare/apartament/iasi. Folosind un proces de data scraping, algoritmul se afla in fisierul \"DataScraping.py\". Datele extrase au fost salvate in fisierul \"apartamente_de_vanzare.xlsx\".\n",
    "\n",
    "Am ales să folosesc datele doar acest site deoarece majoritatea anunțurilor se repetau și pe celalalte situri."
   ]
  },
  {
   "cell_type": "code",
   "execution_count": 54,
   "id": "155e9f02-364a-457f-bb2f-37a6bfc540f0",
   "metadata": {
    "tags": []
   },
   "outputs": [],
   "source": [
    "vanzare_df = pd.read_excel(\"apartamente_de_vanzare.xlsx\")\n",
    "inchiriere_df = pd.read_excel(\"apartamente_de_inchiriat.xlsx\")"
   ]
  },
  {
   "cell_type": "markdown",
   "id": "26ce5a36-6524-4f9e-a246-5e4e498bb69f",
   "metadata": {},
   "source": [
    "Baza de date inițială conține mai multe coloane, majoritatea nu ne sunt utile pentru acest proiect și o să fie eliminate. De asemenea toate datele sunt de tipul \"strîng/text\"(Python o sa foloseaca tipul \"object\" pt string https://stackoverflow.com/questions/21018654/strings-in-a-dataframe-but-dtype-is-object ), mai putin coloana \"Numărul de camere\" care este \"int/numar\" "
   ]
  },
  {
   "cell_type": "code",
   "execution_count": 55,
   "id": "87de52c2-7e9f-40da-9eb0-a2b3912ebe24",
   "metadata": {
    "tags": []
   },
   "outputs": [
    {
     "data": {
      "text/plain": [
       "Zona                       object\n",
       "Pret                       object\n",
       "Suprafață                  object\n",
       "Forma de proprietate       object\n",
       "Numărul de camere           int64\n",
       "Stare                      object\n",
       "Etaj                       object\n",
       "Balcon/grădină/terasă      object\n",
       "Chirie                     object\n",
       "Garaj/loc de parcare       object\n",
       "Vizionare la distanță      object\n",
       "Încălzire                  object\n",
       "Tip proprietate            object\n",
       "Tip vânzător               object\n",
       "Liber de la                object\n",
       "Anul construcției          object\n",
       "Tip clădire                object\n",
       "Tip geamuri                object\n",
       "Lift                       object\n",
       "Media                      object\n",
       "Siguranță                  object\n",
       "Facilități                 object\n",
       "Informații suplimentare    object\n",
       "Material de construcție    object\n",
       "Titlu                      object\n",
       "Descriere                  object\n",
       "dtype: object"
      ]
     },
     "execution_count": 55,
     "metadata": {},
     "output_type": "execute_result"
    }
   ],
   "source": [
    "vanzare_df.dtypes"
   ]
  },
  {
   "cell_type": "markdown",
   "id": "d9d2e731-5af0-4edf-9343-bf01ab8bbca0",
   "metadata": {},
   "source": [
    "<h3> Din baza inițială o să salvăm următoarele coloane:</h3>\n",
    "\n",
    "- Zona: Specifică locul unde se afla blocul;\n",
    "\n",
    "- Pret: Prețul apartamentului în euro (sunt câteva cazuri în care este în RON);\n",
    "\n",
    "- Suprafață: Suprafață utilă în m²;\n",
    "\n",
    "- Garaj/loc de parcare: Garaj/loc de parcare sau câmp gol\n",
    "\n",
    "- Încălzire: Modul de încălzirea a apartamentului sau câmp gol\n",
    "\n",
    "- Anul construcției: Anul în care lucrările au fost finalizate"
   ]
  },
  {
   "cell_type": "markdown",
   "id": "79d9005a-a370-4d32-8714-c9047e997b66",
   "metadata": {},
   "source": [
    "<h3> Note: </h3> O să ne folosim și de coloana \"Descriere\" pentru a completă câmpurile goale. În multe anunțuri unde anumite câmpuri sunt goale( ex: \"Etaj\")informațiile care ar trebui să umple respectivele câmpuri se pot găsi în \"Descriere\"."
   ]
  },
  {
   "cell_type": "markdown",
   "id": "bf52f9f8-76e0-41cb-9636-44b4df5431fb",
   "metadata": {},
   "source": [
    "<h2> Operațiuni preliminare </h2>\n",
    "<h3> Note: </h3>\n",
    "Pentru nu a încarcă acest fișier, funcțiile folosite au fost scrise în fișierul \"Functionalitati.py\"."
   ]
  },
  {
   "cell_type": "markdown",
   "id": "2c766949-2710-4345-87a3-20503d0a6e04",
   "metadata": {},
   "source": [
    "<h3>Câmpurile goale:</h3>\n",
    "În datele inițiale intrările goale sunt \"umplute\"  cu \"Cere informații\" și \"fără informații\", pentru a nu există 2 lucruri care de fapt reprezintă același lucru le-am înlocuit cu NaN"
   ]
  },
  {
   "cell_type": "code",
   "execution_count": 56,
   "id": "d430492c-7cba-4a25-a4bb-4c194fd0aee1",
   "metadata": {
    "tags": []
   },
   "outputs": [],
   "source": [
    "vanzare_df.replace(\"Cere informații\", np.nan, inplace=True)\n",
    "vanzare_df.replace(\"fără informații\", np.nan, inplace=True)"
   ]
  },
  {
   "cell_type": "code",
   "execution_count": 57,
   "id": "1dfc5747-58a7-4885-bafa-55e348439ef9",
   "metadata": {
    "tags": []
   },
   "outputs": [],
   "source": [
    "inchiriere_df.replace(\"Cere informații\", np.nan, inplace=True)\n",
    "inchiriere_df.replace(\"fără informații\", np.nan, inplace=True)"
   ]
  },
  {
   "cell_type": "markdown",
   "id": "01c83d48-ed09-4e56-ab57-018ddfd27903",
   "metadata": {},
   "source": [
    "<h3> Coloana \"Pret\":</h3>\n",
    "\n",
    "Prețul este un strîng, că să îl putem transformă în valoare numerică vom fi nevoiți să:\n",
    "\n",
    "- să eliminăm caracterul \"€\"\n",
    "\n",
    "- să eliminăm spațiile\n",
    "\n",
    "În cazul prețurilor în \"RON\" ele o să fie convertite în euro, am folosit rată de schimb 5 RON = 1 Euro"
   ]
  },
  {
   "cell_type": "code",
   "execution_count": 58,
   "id": "41f49183-ccb9-4387-b1eb-dc6fc979f65a",
   "metadata": {
    "tags": []
   },
   "outputs": [
    {
     "data": {
      "text/plain": [
       "0    168 000 €\n",
       "1    128 000 €\n",
       "2    396 000 €\n",
       "3    102 405 €\n",
       "4    120 000 €\n",
       "Name: Pret, dtype: object"
      ]
     },
     "execution_count": 58,
     "metadata": {},
     "output_type": "execute_result"
    }
   ],
   "source": [
    "vanzare_df['Pret'].head()"
   ]
  },
  {
   "cell_type": "code",
   "execution_count": 59,
   "id": "0e86b27a-f2f5-4492-9b07-a8f58d2f6034",
   "metadata": {
    "tags": []
   },
   "outputs": [],
   "source": [
    "vanzare_df['Pret'] = vanzare_df['Pret'].apply(convert_money)\n",
    "inchiriere_df['Pret'] = inchiriere_df['Pret'].apply(convert_money)"
   ]
  },
  {
   "cell_type": "code",
   "execution_count": 60,
   "id": "cff51e33-f85b-4349-9722-3c005e716844",
   "metadata": {
    "tags": []
   },
   "outputs": [
    {
     "data": {
      "text/plain": [
       "0    168000\n",
       "1    128000\n",
       "2    396000\n",
       "3    102405\n",
       "4    120000\n",
       "Name: Pret, dtype: int64"
      ]
     },
     "execution_count": 60,
     "metadata": {},
     "output_type": "execute_result"
    }
   ],
   "source": [
    "vanzare_df['Pret'].head()"
   ]
  },
  {
   "cell_type": "markdown",
   "id": "c432db3f-3ff6-482d-888b-0dc60eea5370",
   "metadata": {},
   "source": [
    "<h3> Coloana \"Suprafață\":</h3>\n",
    "\n",
    "Suprafață este un strîng, că să îl putem transformă în valoare numerică vom nevoiți să:\n",
    "\n",
    "- să eliminăm caracterul \"m²\"\n",
    "\n",
    "- să eliminăm spațiile\n",
    "- să schimbăm caracterul \",\" cu \".\""
   ]
  },
  {
   "cell_type": "code",
   "execution_count": 62,
   "id": "3e8a33b3-46e9-4a0e-898f-489a8f205ccc",
   "metadata": {
    "tags": []
   },
   "outputs": [
    {
     "data": {
      "text/plain": [
       "0    66,18 m²\n",
       "1       81 m²\n",
       "2      230 m²\n",
       "3    68,27 m²\n",
       "4       78 m²\n",
       "Name: Suprafață, dtype: object"
      ]
     },
     "execution_count": 62,
     "metadata": {},
     "output_type": "execute_result"
    }
   ],
   "source": [
    "vanzare_df['Suprafață'].head()"
   ]
  },
  {
   "cell_type": "code",
   "execution_count": 63,
   "id": "b48c2965-8274-4bcd-a0cc-1154646122eb",
   "metadata": {
    "tags": []
   },
   "outputs": [],
   "source": [
    "vanzare_df['Suprafață'] = vanzare_df['Suprafață'].apply(convert_area)\n",
    "inchiriere_df['Suprafață'] = inchiriere_df['Suprafață'].apply(convert_area)"
   ]
  },
  {
   "cell_type": "code",
   "execution_count": 65,
   "id": "6abecdc9-dbd9-4e7a-850a-a3c29dcfc1be",
   "metadata": {
    "tags": []
   },
   "outputs": [
    {
     "data": {
      "text/plain": [
       "0     66.18\n",
       "1     81.00\n",
       "2    230.00\n",
       "3     68.27\n",
       "4     78.00\n",
       "Name: Suprafață, dtype: float64"
      ]
     },
     "execution_count": 65,
     "metadata": {},
     "output_type": "execute_result"
    }
   ],
   "source": [
    "vanzare_df['Suprafață'].head()"
   ]
  },
  {
   "cell_type": "markdown",
   "id": "10138500-78f5-4646-8b61-842e4f89d338",
   "metadata": {},
   "source": [
    "<h3> Coloana \"Etaj\":</h3>\n",
    "Această coloana conține și spații goale, în primult completăm( unde se poate) cu informațiile din coloana \"Descriere\"( prin parsarea textului). De asemenea în această coloana trecute și etajul apartamentului cât și numărul de etaje ale blocului, de aceea o să creem două coloane noi:\n",
    "\n",
    "- 'Etaj apartament': Care o să conțină etajul la care se află apartamenul;\n",
    "\n",
    "-  'Număr Etaj Bloc': Care o să conțină numărul de etaje ale blocului\n"
   ]
  },
  {
   "cell_type": "code",
   "execution_count": 7,
   "id": "9fd13249-ab1d-4091-9b52-3782102e1068",
   "metadata": {
    "tags": []
   },
   "outputs": [],
   "source": [
    "vanzare_df['Etaj'] = vanzare_df.apply(lambda df: building_floors(df[\"Etaj\"], df[\"Descriere\"]), axis=1)\n",
    "inchiriere_df['Etaj'] = inchiriere_df.apply(lambda df: building_floors(df[\"Etaj\"], df[\"Descriere\"]), axis=1)"
   ]
  },
  {
   "cell_type": "code",
   "execution_count": 8,
   "id": "08f53b99-531c-4d6e-a6c3-fdf83bfdaadb",
   "metadata": {
    "tags": []
   },
   "outputs": [],
   "source": [
    "vanzare_df['Etaj apartament'] = vanzare_df['Etaj'].apply(apartment_floor)\n",
    "inchiriere_df['Etaj apartament'] = inchiriere_df['Etaj'].apply(apartment_floor)"
   ]
  },
  {
   "cell_type": "code",
   "execution_count": 9,
   "id": "e03df19a-dcad-4b20-b65a-4fdc5e8d80d6",
   "metadata": {
    "tags": []
   },
   "outputs": [],
   "source": [
    "vanzare_df['Numar Etaj Bloc'] = vanzare_df['Etaj'].apply(number_of_floors)\n",
    "inchiriere_df['Numar Etaj Bloc'] = inchiriere_df['Etaj'].apply(number_of_floors)"
   ]
  },
  {
   "cell_type": "code",
   "execution_count": 10,
   "id": "715126f4-34f9-4924-8817-e055fa608d49",
   "metadata": {
    "tags": []
   },
   "outputs": [],
   "source": [
    "vanzare_df[\"Anul construcției\"] = vanzare_df.apply(lambda df: get_year(df[\"Anul construcției\"], df[\"Descriere\"]), axis=1)\n",
    "inchiriere_df[\"Anul construcției\"] = inchiriere_df.apply(lambda df: get_year(df[\"Anul construcției\"], df[\"Descriere\"]), axis=1)"
   ]
  },
  {
   "cell_type": "code",
   "execution_count": 11,
   "id": "ccc9ac9d-3b47-4315-8eb8-3f0e07e11061",
   "metadata": {
    "tags": []
   },
   "outputs": [],
   "source": [
    "vanzare_df['Garaj/loc de parcare'] = vanzare_df.apply(lambda df: parcare_or_garaj(df['Garaj/loc de parcare'], df[\"Descriere\"]), axis=1)\n",
    "inchiriere_df['Garaj/loc de parcare'] = inchiriere_df.apply(lambda df: parcare_or_garaj(df['Garaj/loc de parcare'], df[\"Descriere\"]), axis=1)"
   ]
  },
  {
   "cell_type": "code",
   "execution_count": 12,
   "id": "9bbd49d5-cc1d-4926-858c-7ee2753df856",
   "metadata": {
    "tags": []
   },
   "outputs": [],
   "source": [
    "vanzare_df['Garaj/loc de parcare'].replace(np.nan, \"Fara loc\", inplace=True)\n",
    "inchiriere_df['Garaj/loc de parcare'].replace(np.nan, \"Fara loc\", inplace=True)"
   ]
  },
  {
   "cell_type": "code",
   "execution_count": 13,
   "id": "ba0d2224-165f-4aec-8883-b1dd3557f095",
   "metadata": {
    "tags": []
   },
   "outputs": [],
   "source": [
    "new_vanzare_df = vanzare_df.loc[:,(\"Zona\", \"Pret\", 'Suprafață', 'Numărul de camere', 'Anul construcției',\n",
    "                                   'Etaj apartament', 'Numar Etaj Bloc', 'Garaj/loc de parcare')]\n",
    "new_inchiriere_df = inchiriere_df.loc[:, (\"Zona\", \"Pret\", 'Suprafață', 'Numărul de camere', 'Anul construcției',\n",
    "                                          'Etaj apartament', 'Numar Etaj Bloc', 'Garaj/loc de parcare')]"
   ]
  },
  {
   "cell_type": "code",
   "execution_count": 14,
   "id": "47a6500e-2af3-4139-8796-6125f4189df3",
   "metadata": {
    "tags": []
   },
   "outputs": [],
   "source": [
    "new_vanzare_df['Anul construcției'].replace(np.nan, 0, inplace=True)\n",
    "new_vanzare_df['Anul construcției'] = new_vanzare_df['Anul construcției'].astype('int')\n",
    "new_inchiriere_df[\"Anul construcției\"].replace(np.nan, 0, inplace=True)\n",
    "new_inchiriere_df[\"Anul construcției\"] = new_inchiriere_df[\"Anul construcției\"].astype(\"int\")"
   ]
  },
  {
   "cell_type": "code",
   "execution_count": 15,
   "id": "6be384df-2654-4830-b427-7129fc6263bb",
   "metadata": {
    "tags": []
   },
   "outputs": [],
   "source": [
    "new_vanzare_df['Numar Etaj Bloc'].replace(np.nan, 0, inplace=True)\n",
    "index_to_drop = new_vanzare_df.index[new_vanzare_df['Numar Etaj Bloc'] == \"24\"].to_list()\n",
    "new_vanzare_df.drop(index_to_drop, inplace=True)"
   ]
  },
  {
   "cell_type": "code",
   "execution_count": 16,
   "id": "9c3c21e2-50c1-4379-bf8e-254953d1a569",
   "metadata": {
    "tags": []
   },
   "outputs": [],
   "source": [
    "new_inchiriere_df['Numar Etaj Bloc'].replace(np.nan, 0, inplace=True)\n",
    "index_to_drop = new_inchiriere_df.index[new_inchiriere_df['Numar Etaj Bloc'] == \"24\"].to_list()\n",
    "new_inchiriere_df.drop(index_to_drop, inplace=True)"
   ]
  },
  {
   "cell_type": "code",
   "execution_count": 17,
   "id": "bec9b8fd-4b8b-416f-9f3c-b0b5cd4bc651",
   "metadata": {
    "tags": []
   },
   "outputs": [],
   "source": [
    "new_vanzare_df['Etaj apartament'].replace(np.nan, 0, inplace=True)\n",
    "index_to_drop = new_vanzare_df[new_vanzare_df['Etaj apartament'] == 0].index\n",
    "new_vanzare_df.drop(index_to_drop, inplace=True)"
   ]
  },
  {
   "cell_type": "code",
   "execution_count": 18,
   "id": "dd201be6-0c74-4de9-87d1-626d934a1ac2",
   "metadata": {},
   "outputs": [],
   "source": [
    "new_inchiriere_df['Etaj apartament'].replace(np.nan, 0, inplace=True)\n",
    "index_to_drop = new_inchiriere_df[new_inchiriere_df['Etaj apartament'] == 0].index\n",
    "new_inchiriere_df.drop(index_to_drop, inplace=True)"
   ]
  },
  {
   "cell_type": "code",
   "execution_count": 19,
   "id": "e4754e96-eae5-4fa3-8beb-5e8a9a7d48a1",
   "metadata": {
    "tags": []
   },
   "outputs": [],
   "source": [
    "mode_mansarda = int(new_vanzare_df[new_vanzare_df['Etaj apartament'] == 'mansardă']['Numar Etaj Bloc'].mode().to_list()[0])\n",
    "new_vanzare_df['Numar Etaj Bloc'] = new_vanzare_df.apply(lambda df:\n",
    "                                                         set_max_floor(df['Etaj apartament'], df['Numar Etaj Bloc'], mode_mansarda), axis=1)"
   ]
  },
  {
   "cell_type": "code",
   "execution_count": 20,
   "id": "83db3d39-63a3-446c-88c2-9c55d2c1981c",
   "metadata": {
    "tags": []
   },
   "outputs": [],
   "source": [
    "mode_mansarda = int(new_inchiriere_df[new_inchiriere_df['Etaj apartament'] == 'mansardă']['Numar Etaj Bloc'].mode().to_list()[0])\n",
    "new_inchiriere_df['Numar Etaj Bloc'] = new_inchiriere_df.apply(lambda df:\n",
    "                                                         set_max_floor(df['Etaj apartament'], df['Numar Etaj Bloc'], mode_mansarda), axis=1)"
   ]
  },
  {
   "cell_type": "code",
   "execution_count": 21,
   "id": "d95d5340-2af3-4a01-9730-79e958ea5ad4",
   "metadata": {
    "tags": []
   },
   "outputs": [],
   "source": [
    "new_vanzare_df['Zona Oras'] = new_vanzare_df['Zona'].apply(city_zone)\n",
    "new_inchiriere_df['Zona Oras'] = new_inchiriere_df['Zona'].apply(city_zone)"
   ]
  },
  {
   "cell_type": "code",
   "execution_count": 22,
   "id": "d9b9ef41-c7e9-4d45-9ed6-3648b5408bd3",
   "metadata": {
    "tags": []
   },
   "outputs": [],
   "source": [
    "new_vanzare_df[\"Anul construcției\"] = new_vanzare_df.apply(lambda df:\n",
    "                                                              year_mode(df['Zona Oras'], df[\"Anul construcției\"], new_vanzare_df), axis=1)\n",
    "new_inchiriere_df[\"Anul construcției\"] = new_inchiriere_df.apply(lambda df:\n",
    "                                                              year_mode(df['Zona Oras'], df[\"Anul construcției\"], new_inchiriere_df), axis=1)"
   ]
  },
  {
   "cell_type": "code",
   "execution_count": 23,
   "id": "e05a85d9-add5-4de4-af84-3fe2a81796e9",
   "metadata": {
    "tags": []
   },
   "outputs": [],
   "source": [
    "new_vanzare_df['Cutremur'] = new_vanzare_df.apply(lambda df:\n",
    "                                                  dangerous_building(df['Anul construcției'], df['Numar Etaj Bloc']), axis=1)\n",
    "new_inchiriere_df['Cutremur'] = new_inchiriere_df.apply(lambda df:\n",
    "                                                  dangerous_building(df['Anul construcției'], df['Numar Etaj Bloc']), axis=1)\n"
   ]
  },
  {
   "cell_type": "code",
   "execution_count": 24,
   "id": "e1722dd2-7375-4bc1-a0fc-f642e652616d",
   "metadata": {},
   "outputs": [
    {
     "data": {
      "text/plain": [
       "array([2015, 1989, 2001, 2023, 2022, 1970, 2026, 2018, 1997,    0, 2008,\n",
       "       1990, 2017, 2021, 2019, 1972, 1965, 2025, 2024, 1980, 1978, 2020,\n",
       "       1979, 2016, 1986, 1968, 2010, 1977, 1985, 1992, 1976, 1973, 1974,\n",
       "       1984, 1975, 1967, 1988, 1983, 1987, 1981, 1966, 2009, 2014, 1971,\n",
       "       1995, 1969, 1962, 1982, 2005, 1955, 2011, 1960, 2013, 2012, 1964,\n",
       "       1993, 1963, 1958, 1996, 1959, 2000, 1954, 1991, 1890, 1998, 1999,\n",
       "       1994, 1952, 1950, 1961, 2006], dtype=int64)"
      ]
     },
     "execution_count": 24,
     "metadata": {},
     "output_type": "execute_result"
    }
   ],
   "source": [
    "new_vanzare_df['Anul construcției'].unique()"
   ]
  },
  {
   "cell_type": "code",
   "execution_count": null,
   "id": "adebba2d-556e-4941-996f-bde495443b88",
   "metadata": {},
   "outputs": [],
   "source": []
  }
 ],
 "metadata": {
  "kernelspec": {
   "display_name": "Python 3 (ipykernel)",
   "language": "python",
   "name": "python3"
  },
  "language_info": {
   "codemirror_mode": {
    "name": "ipython",
    "version": 3
   },
   "file_extension": ".py",
   "mimetype": "text/x-python",
   "name": "python",
   "nbconvert_exporter": "python",
   "pygments_lexer": "ipython3",
   "version": "3.11.5"
  }
 },
 "nbformat": 4,
 "nbformat_minor": 5
}
